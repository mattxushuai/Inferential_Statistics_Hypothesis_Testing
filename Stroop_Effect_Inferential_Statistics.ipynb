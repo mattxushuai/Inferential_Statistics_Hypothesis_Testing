{
 "cells": [
  {
   "cell_type": "markdown",
   "metadata": {
    "_cell_guid": "0a23b0cc-6ae3-44ab-bd9d-b7c444b71d4c",
    "_uuid": "0c1629b373df2008971008100184bf48c03a34b6"
   },
   "source": [
    "# Inferential statistics applied to a Stroop Effect measurement\n",
    "\n",
    "This analysis aims to compute descriptive statistics and to perform a statistical test on a dataset based on a psychological phenomenon: the Stroop Effect. This report is structured into four sections: (1) *Introduction*, where the investigation problem is set; (2) *Descriptive Statistics*, where the data is parameterized statistically; (3) *Hypotheses Test*, in which a statistical test is applied to data and its results are reported; and (4) *Conclusion*, where an in-depth discussion on Stroop Effect is made.  "
   ]
  },
  {
   "cell_type": "markdown",
   "metadata": {
    "_cell_guid": "79f3860e-deae-4406-90de-420eddc0ffa1",
    "_uuid": "23fd2a437150462c8e190af49b07f7f385cc9194"
   },
   "source": [
    "<a id='intro'></a>\n",
    "## 1. Introduction"
   ]
  },
  {
   "cell_type": "markdown",
   "metadata": {
    "_cell_guid": "98707854-ff86-4350-99ae-6e154574be28",
    "_uuid": "8ab761299c0128090f3a67bc0f253b911662683d"
   },
   "source": [
    "<a id='sec1.1'></a>\n",
    "### 1.1. The Stroop Effect\n",
    "\n",
    "The Stroop effect is a demonstration of interference in the reaction time of a task. When the name of a color (e.g., \"blue\", \"green\", or \"red\") is printed in a color that is not denoted by the name (e.g., the word \"red\" printed in blue ink instead of red ink), naming the color of the word takes longer and is more prone to errors than when the color of the ink matches the name of the color. The effect is named after John Ridley Stroop, who first published the effect in English in 1935.\n",
    "\n",
    "These situations are defined as *congruent*, when the name of color is equivalent to the name, or *incongruent*, when the name denotes to another color, as shown in the following example sets."
   ]
  },
  {
   "cell_type": "markdown",
   "metadata": {
    "_cell_guid": "efe203f1-5556-41d8-95ac-517aeac5bcbd",
    "_uuid": "8c76c24b7dc93d3084b16a457ec3edd8b4e9996a"
   },
   "source": [
    "** Congruent set of words:**  \n",
    "> <b><span style=\"color:green\">Green</span> <span style=\"color:red\">Red</span> <span style=\"color:blue\">Blue</span> <span style=\"color:orange\">Orange</span><br>\n",
    "\n",
    "** Incongruent set of words:**\n",
    "> <b><span style=\"color:red\">Green</span> <span style=\"color:green\">Red</span> <span style=\"color:orange\">Blue</span> <span style=\"color:blue\">Orange</span><br>"
   ]
  },
  {
   "cell_type": "markdown",
   "metadata": {
    "_cell_guid": "4119d902-b42f-4c66-a311-bcc132b7f94f",
    "_uuid": "55dad3b01ac352070841da38310707a15b8273f4"
   },
   "source": [
    "<a id='sec1.2'></a>\n",
    "### 1.2. Loading Libraries"
   ]
  },
  {
   "cell_type": "code",
   "execution_count": 1,
   "metadata": {
    "_cell_guid": "a7b91fbc-c36b-4c19-9c1d-cda4667efe70",
    "_uuid": "b4f50364c9d2b2508de5b07ac266397293cc1247"
   },
   "outputs": [],
   "source": [
    "# Data analysis packages:\n",
    "import pandas as pd\n",
    "import numpy as np\n",
    "from datetime import datetime as dt\n",
    "\n",
    "# Visualization packages:\n",
    "import seaborn as sns\n",
    "import matplotlib.pyplot as plt\n",
    "%matplotlib inline"
   ]
  },
  {
   "cell_type": "markdown",
   "metadata": {
    "_cell_guid": "fac12b2b-13ef-4b03-85dc-fb15fd0d6e42",
    "_uuid": "eae1719d05586994ebfe0dfd415dc25900feaee0"
   },
   "source": [
    "<a id='sec1.3'></a>\n",
    "### 1.3. Understanding the data\n",
    "The dataset used in this analysis refers to the time of reading the ink color either for a list of congruent words and for a list of incongruent words. Each line of the dataset corresponds to a different person, in a total of 24 people, as confirmed by the dataset length."
   ]
  },
  {
   "cell_type": "markdown",
   "metadata": {
    "_cell_guid": "0511d631-38c7-4a15-b681-876caedd78bf",
    "_uuid": "54c3183ae1dff89c758650309f768bd92e9a5d8a"
   },
   "source": [
    "In order to define the hypotheses that will lead this analysis, it is first needed to know which information is available in the dataset (attributes). Thus, the first lines of the dataset are shown below:"
   ]
  },
  {
   "cell_type": "code",
   "execution_count": 2,
   "metadata": {
    "_cell_guid": "d46f5b22-96c3-4f03-ac45-f381f480c628",
    "_uuid": "3bc79cac9a9a24b8194d3fc2f62a449aaecd4691"
   },
   "outputs": [
    {
     "name": "stdout",
     "output_type": "stream",
     "text": [
      "The dataset has 24 samples.\n"
     ]
    },
    {
     "data": {
      "text/html": [
       "<div>\n",
       "<style scoped>\n",
       "    .dataframe tbody tr th:only-of-type {\n",
       "        vertical-align: middle;\n",
       "    }\n",
       "\n",
       "    .dataframe tbody tr th {\n",
       "        vertical-align: top;\n",
       "    }\n",
       "\n",
       "    .dataframe thead th {\n",
       "        text-align: right;\n",
       "    }\n",
       "</style>\n",
       "<table border=\"1\" class=\"dataframe\">\n",
       "  <thead>\n",
       "    <tr style=\"text-align: right;\">\n",
       "      <th></th>\n",
       "      <th>Congruent</th>\n",
       "      <th>Incongruent</th>\n",
       "    </tr>\n",
       "  </thead>\n",
       "  <tbody>\n",
       "    <tr>\n",
       "      <th>0</th>\n",
       "      <td>12.079</td>\n",
       "      <td>19.278</td>\n",
       "    </tr>\n",
       "    <tr>\n",
       "      <th>1</th>\n",
       "      <td>16.791</td>\n",
       "      <td>18.741</td>\n",
       "    </tr>\n",
       "    <tr>\n",
       "      <th>2</th>\n",
       "      <td>9.564</td>\n",
       "      <td>21.214</td>\n",
       "    </tr>\n",
       "  </tbody>\n",
       "</table>\n",
       "</div>"
      ],
      "text/plain": [
       "   Congruent  Incongruent\n",
       "0     12.079       19.278\n",
       "1     16.791       18.741\n",
       "2      9.564       21.214"
      ]
     },
     "execution_count": 2,
     "metadata": {},
     "output_type": "execute_result"
    }
   ],
   "source": [
    "## Loading the dataset\n",
    "data = [[12.079,19.278],[16.791,18.741],[9.564,21.214],[8.630,15.687],[14.669,22.803],[12.238,20.878],[14.692,24.572],[8.987,17.394],[9.401,20.762],[14.480,26.282],[22.328,24.524],[15.298,18.644],[15.073,17.510],[16.929,20.330],[18.200,35.255],[12.130,22.158],[18.495,25.139],[10.639,20.429],[11.344,17.425],[12.369,34.288],[12.944,23.894],[14.233,17.960],[19.710,22.058],[16.004,21.157]]\n",
    "dataset = pd.DataFrame(data, columns=['Congruent','Incongruent'])\n",
    "## Printing the number of samples in the dataset:\n",
    "print('The dataset has {0} samples.'.format(len(dataset)))\n",
    "## Printing out some few lines:\n",
    "dataset.head(3)"
   ]
  },
  {
   "cell_type": "markdown",
   "metadata": {
    "_cell_guid": "16b6b09d-6804-42e7-9ac4-1e96b413fbd9",
    "_uuid": "bf180131b950f2ba4de5871fa71a6d3723fb3a8b"
   },
   "source": [
    "Once we have understood the phenomenon and the data available, we can then characterize the variables we are working with, as follow:\n",
    "* **Independent variable**: the independent variable is the one that does not depend on the sample and that are choosen a priori by the experimenter. In fact, it correspond to the variable we are trying to understand through the experiment. In this case, the independent variable is **the condition of the set of words**, i.e. whether the words are congruent or not. Put another way, we can imagine our independent variable *condition* assuming the value 0 when the words are congruents or assuming the value 1 if not.  \n",
    "\n",
    "* **Dependent variable**: on the other hand, the dependent variable varies accordingly to each sample. In this problem, it refers to **the time to read and say out loud the color in which a set of words is printed**.  \n",
    "\n",
    "The distributions for each one of the states of our independent variable can then be described as follow, remembering that population refers to all the people and sample refers only to the subjects participating in the experiment:  \n",
    "\n",
    "* Time to read and say out loud the color of the congruent set of words:  \n",
    "    - Population: $(\\mu_{c}, \\sigma_{c})$;  \n",
    "    - Sample: $(\\bar{X}_c, S_{c})$;  \n",
    "    > - $\\mu_{c}$ is the mean time for reading a congruent set of words; \n",
    "    > - $\\sigma_{c}$ stands for the standard deviation when reading a congruent set of words; \n",
    "    > - $\\bar{X}_c$ is the sample mean time for reading a congruent set of words; and \n",
    "    > - $S_{c}$ is the sample standard deviation when reading a congruent set of words.  \n",
    "        \n",
    "* Time to read and say out loud the color of the incongruent set of words:  \n",
    "    - Population: $(\\mu_{i}, \\sigma_{i})$;  \n",
    "    - Sample: $(\\bar{X}_i, S_{i})$;  \n",
    "    > - $\\mu_{i}$ is the mean time for reading an icongruent set of words; \n",
    "    > - $\\sigma_{i}$ stands for the standard deviation when reading an icongruent set of words; \n",
    "    > - $\\bar{X}_i$ is the sample mean time for reading an icongruent set of words; and \n",
    "    > - $S_{i}$ is the sample standard deviation when reading an icongruent set of words.  "
   ]
  },
  {
   "cell_type": "markdown",
   "metadata": {
    "_cell_guid": "0c91a4cb-7d2e-446c-9786-9bb0387ed16e",
    "_uuid": "8ec32f6c4317575c3948cd9f707fe12eba906c81"
   },
   "source": [
    "<a id='sec1.4'></a>\n",
    "### 1.4. Hypotheses to be explored\n",
    "\n",
    "Does the time for reading incongruent words differ from that reading congruent ones?  \n",
    "\n",
    "First of all, since the dataset we are considering has few samples, i.e. less than 30, we will assume that the population fits into a normal distribution. From this assumption we can then consider the sample mean as equivalent to the population mean. However, once we do not have the standard deviation of the population, it will be appropriate to consider a t-distribution. \n",
    "\n",
    "Furthermore, through the t-test we could infer how different the two population means (simbolized as $\\mu_c$ and $\\mu_i$ for congruent and incongruent set of words, respectively) are from each other, considering the measured samples. "
   ]
  },
  {
   "cell_type": "markdown",
   "metadata": {
    "_cell_guid": "405f06b1-9bd1-4c44-8d45-436e9ce79909",
    "_uuid": "8b83d9f5ee74173eb48a8320e1da6d1fd3077c8b"
   },
   "source": [
    "We know we are dealing with dependent sample (the subject who reads the congruent set of words is the same that reads the incongruent one), but we are interested in testing for an average difference among them. In <a href=\"#[5]\">[5]</a> this approach of testing is also defined as *paired t-Test*.  \n",
    "\n",
    "In order to do so, we first need to calculate the difference between the variables:"
   ]
  },
  {
   "cell_type": "code",
   "execution_count": 3,
   "metadata": {
    "_cell_guid": "5ba7bb22-cedd-44ea-a950-106797102e19",
    "_uuid": "42bb621cb33d8f8486001b76574fe4f9e724f772",
    "scrolled": true
   },
   "outputs": [
    {
     "data": {
      "text/html": [
       "<div>\n",
       "<style scoped>\n",
       "    .dataframe tbody tr th:only-of-type {\n",
       "        vertical-align: middle;\n",
       "    }\n",
       "\n",
       "    .dataframe tbody tr th {\n",
       "        vertical-align: top;\n",
       "    }\n",
       "\n",
       "    .dataframe thead th {\n",
       "        text-align: right;\n",
       "    }\n",
       "</style>\n",
       "<table border=\"1\" class=\"dataframe\">\n",
       "  <thead>\n",
       "    <tr style=\"text-align: right;\">\n",
       "      <th></th>\n",
       "      <th>Congruent</th>\n",
       "      <th>Incongruent</th>\n",
       "      <th>Difference</th>\n",
       "    </tr>\n",
       "  </thead>\n",
       "  <tbody>\n",
       "    <tr>\n",
       "      <th>0</th>\n",
       "      <td>12.079</td>\n",
       "      <td>19.278</td>\n",
       "      <td>-7.199</td>\n",
       "    </tr>\n",
       "    <tr>\n",
       "      <th>1</th>\n",
       "      <td>16.791</td>\n",
       "      <td>18.741</td>\n",
       "      <td>-1.950</td>\n",
       "    </tr>\n",
       "    <tr>\n",
       "      <th>2</th>\n",
       "      <td>9.564</td>\n",
       "      <td>21.214</td>\n",
       "      <td>-11.650</td>\n",
       "    </tr>\n",
       "  </tbody>\n",
       "</table>\n",
       "</div>"
      ],
      "text/plain": [
       "   Congruent  Incongruent  Difference\n",
       "0     12.079       19.278      -7.199\n",
       "1     16.791       18.741      -1.950\n",
       "2      9.564       21.214     -11.650"
      ]
     },
     "execution_count": 3,
     "metadata": {},
     "output_type": "execute_result"
    }
   ],
   "source": [
    "dataset['Difference'] = dataset['Congruent'] - dataset['Incongruent']\n",
    "dataset.head(3)"
   ]
  },
  {
   "cell_type": "markdown",
   "metadata": {
    "_cell_guid": "327b41e9-a010-4ec8-9a1a-3670eb0032e9",
    "_uuid": "8ad67f10901e37f288c29113cd27e7316a8ab081"
   },
   "source": [
    "Once we have calculated the difference among the congruent and incongruent distributions, we still can assume it follows a t-distribution having its mean represented by $\\mu_d$, which is given by $(\\mu_d = \\mu_c-\\mu_i)$, and its standard deviation represented by $\\sigma_d$. In the same way, the difference of the sample distributions has a mean time represented by $\\bar{X}_d$ and a standard deviation represented by $S_d$."
   ]
  },
  {
   "cell_type": "markdown",
   "metadata": {
    "_cell_guid": "fb34df68-a2a1-49bd-b990-ce3fde9a5df8",
    "_uuid": "879fa910a4c1ac8649dc0fa9aef6929a3458047d"
   },
   "source": [
    "We then hypothesize as follow:  \n",
    "* **Null hypothesis:** the population difference is centered in zero, i.e., the mean time is the same for reading either congruent and incongruent set of words. This definition can be mathematically defined as:  \n",
    "    $H_0: \\mu_d = 0$  \n",
    "      \n",
    "* **Alternative hypothesis:** the population difference is nonzero. If we observe the previous few measurements we notice the time is shorter for reading the congruent set of words, thereby we can hypothesize that reading congruent words is faster than reading the incongruent ones. Mathematically it is the same as obtaining a negative difference. Thus our alternative hypothesis can be narrowed to the following condition:  \n",
    "    $H_a: \\mu_d < 0$  \n",
    "\n",
    "In order to test them we shall run a one-tailed t-test using an arbitrated $\\alpha$ level of $0.05$, as it can be seen in <a href=\"#hypotheses\">Section 3</a>."
   ]
  },
  {
   "cell_type": "markdown",
   "metadata": {
    "_cell_guid": "a0e643d3-1ebb-4a7f-891e-c69274223103",
    "_uuid": "e619b8683b8d572a4f0502d2078fbd663fb41511"
   },
   "source": [
    "-------------"
   ]
  },
  {
   "cell_type": "markdown",
   "metadata": {
    "_cell_guid": "b55ded9f-a569-4543-913e-c05c628af3e8",
    "_uuid": "4cb12f92062ff373c0d10efacfbefea2df5c1a1c"
   },
   "source": [
    "<a id='descrStats'></a>\n",
    "## 2. Descriptive statistics\n",
    "The term statistics here stands for the characteristics of the sample, in the way we could describe them in terms of its central tendency and variability.  \n",
    "\n",
    "The Python Pandas library offers a function to generate the descriptive statistics for a given dataset, summarizing its central tendency, dispersion and shape of the dataset's distribution. For numerical data, as it is the case, this function results in the following statistics: *count*, *mean*, *std* for the standard deviation, *min* and *max* values, the lower percentile (*25%*), the median or *50% percentile*, and the upper percentile (*75%*). "
   ]
  },
  {
   "cell_type": "code",
   "execution_count": 4,
   "metadata": {
    "_cell_guid": "204b6a7a-1c28-4880-ae22-e8fed49a8ff2",
    "_uuid": "a8650af89dbba2dd923081b6b87d3beee47bf56b",
    "scrolled": false
   },
   "outputs": [
    {
     "data": {
      "text/html": [
       "<div>\n",
       "<style scoped>\n",
       "    .dataframe tbody tr th:only-of-type {\n",
       "        vertical-align: middle;\n",
       "    }\n",
       "\n",
       "    .dataframe tbody tr th {\n",
       "        vertical-align: top;\n",
       "    }\n",
       "\n",
       "    .dataframe thead th {\n",
       "        text-align: right;\n",
       "    }\n",
       "</style>\n",
       "<table border=\"1\" class=\"dataframe\">\n",
       "  <thead>\n",
       "    <tr style=\"text-align: right;\">\n",
       "      <th></th>\n",
       "      <th>Congruent</th>\n",
       "      <th>Incongruent</th>\n",
       "      <th>Difference</th>\n",
       "    </tr>\n",
       "  </thead>\n",
       "  <tbody>\n",
       "    <tr>\n",
       "      <th>count</th>\n",
       "      <td>24.000000</td>\n",
       "      <td>24.000000</td>\n",
       "      <td>24.000000</td>\n",
       "    </tr>\n",
       "    <tr>\n",
       "      <th>mean</th>\n",
       "      <td>14.051125</td>\n",
       "      <td>22.015917</td>\n",
       "      <td>-7.964792</td>\n",
       "    </tr>\n",
       "    <tr>\n",
       "      <th>std</th>\n",
       "      <td>3.559358</td>\n",
       "      <td>4.797057</td>\n",
       "      <td>4.864827</td>\n",
       "    </tr>\n",
       "    <tr>\n",
       "      <th>min</th>\n",
       "      <td>8.630000</td>\n",
       "      <td>15.687000</td>\n",
       "      <td>-21.919000</td>\n",
       "    </tr>\n",
       "    <tr>\n",
       "      <th>25%</th>\n",
       "      <td>11.895250</td>\n",
       "      <td>18.716750</td>\n",
       "      <td>-10.258500</td>\n",
       "    </tr>\n",
       "    <tr>\n",
       "      <th>50%</th>\n",
       "      <td>14.356500</td>\n",
       "      <td>21.017500</td>\n",
       "      <td>-7.666500</td>\n",
       "    </tr>\n",
       "    <tr>\n",
       "      <th>75%</th>\n",
       "      <td>16.200750</td>\n",
       "      <td>24.051500</td>\n",
       "      <td>-3.645500</td>\n",
       "    </tr>\n",
       "    <tr>\n",
       "      <th>max</th>\n",
       "      <td>22.328000</td>\n",
       "      <td>35.255000</td>\n",
       "      <td>-1.950000</td>\n",
       "    </tr>\n",
       "  </tbody>\n",
       "</table>\n",
       "</div>"
      ],
      "text/plain": [
       "       Congruent  Incongruent  Difference\n",
       "count  24.000000    24.000000   24.000000\n",
       "mean   14.051125    22.015917   -7.964792\n",
       "std     3.559358     4.797057    4.864827\n",
       "min     8.630000    15.687000  -21.919000\n",
       "25%    11.895250    18.716750  -10.258500\n",
       "50%    14.356500    21.017500   -7.666500\n",
       "75%    16.200750    24.051500   -3.645500\n",
       "max    22.328000    35.255000   -1.950000"
      ]
     },
     "execution_count": 4,
     "metadata": {},
     "output_type": "execute_result"
    }
   ],
   "source": [
    "## Obtaining the dataset descriptive statistics:\n",
    "dataset.describe()"
   ]
  },
  {
   "cell_type": "markdown",
   "metadata": {
    "_cell_guid": "8d4538fc-3aa1-4eaa-b2a2-43921f0fcc7e",
    "_uuid": "11fceb8332cd9f826bbce7bdb0a1f23220492ab5"
   },
   "source": [
    "From the values above we can see that in both sample distributions the *median* is close to the mean value, as it is supposed to be in a normal distribution. Thus it gaves us an idea on how is the central tendency of these distributions. The standard deviation values give us the information on how these distributions are spread out, indicating that the congruent values are closer to their mean. \n",
    "\n",
    "These observed descriptive statistics are confirmed in the plot below, where both sample distributions can be visualized. Also, the same observations are valid for the *difference distribution* ($\\bar{X}_d$, $S_d$). Despite the outlier measurements in the distribution from *incongruent* word set and the skewness in the *difference*, it can be noticed that all of them follow an approximately normal curve. "
   ]
  },
  {
   "cell_type": "code",
   "execution_count": 5,
   "metadata": {
    "_cell_guid": "094aac6f-d2ed-4a0a-ac6a-dc36128e00b7",
    "_uuid": "dee4935d57befd628837ffc7bb7bc638a3128ad2",
    "scrolled": false
   },
   "outputs": [
    {
     "data": {
      "image/png": "[encoded data removed]",
      "text/plain": [
       "<Figure size 864x432 with 1 Axes>"
      ]
     },
     "metadata": {
      "needs_background": "light"
     },
     "output_type": "display_data"
    }
   ],
   "source": [
    "fig1, ax = plt.subplots(figsize=[12,6])  #Defines the graph window size\n",
    "fig1.subplots_adjust(top=0.92)\n",
    "plt.suptitle('Sample distributions for Stroop Effect experiment', fontsize=14, fontweight='bold')\n",
    "\n",
    "sns.distplot(dataset['Congruent'], label='Congruent', ax=ax)\n",
    "sns.distplot(dataset['Incongruent'], label='Incongruent', ax=ax)\n",
    "sns.distplot(dataset['Difference'], label='Difference', ax=ax)\n",
    "ax.legend(ncol=2, loc=\"upper right\", frameon=True)\n",
    "\n",
    "ax.set_xlabel('Time to read and say out the printed color of the word set', fontsize=12)\n",
    "plt.show()"
   ]
  },
  {
   "cell_type": "markdown",
   "metadata": {
    "_cell_guid": "c1f468d4-c9ce-4de6-a401-d0b4d4a86dda",
    "_uuid": "15ec625833253e90f8c392ee75d7ed5362a45b17"
   },
   "source": [
    "The same distributions can be viewed on the boxplot below, which clearly shows the distribution range and highlights the probable outliers."
   ]
  },
  {
   "cell_type": "code",
   "execution_count": 18,
   "metadata": {
    "_cell_guid": "7c92870e-69c4-481e-92bd-3bbfeadcea25",
    "_uuid": "2371fa55b6b86aea4045d8c217f2b3e39af434e4",
    "scrolled": false
   },
   "outputs": [
    {
     "data": {
      "image/png": "[encoded data removed]",
      "text/plain": [
       "<Figure size 864x432 with 1 Axes>"
      ]
     },
     "metadata": {
      "needs_background": "light"
     },
     "output_type": "display_data"
    }
   ],
   "source": [
    "fig2, ax2 = plt.subplots(figsize=[12,6])  #Defines the graph window size\n",
    "fig2.subplots_adjust(top=0.92)\n",
    "plt.suptitle('Boxplot of the sample distributions for Stroop Effect experiment', fontsize=14, fontweight='bold')\n",
    "sns.boxplot(data=dataset, orient='v', ax=ax2)\n",
    "plt.show()"
   ]
  },
  {
   "cell_type": "markdown",
   "metadata": {
    "_cell_guid": "30cd41ea-3729-4e62-b6c3-cb94faa512f8",
    "_uuid": "3064867722342c9b5c2f65e10300a4d58a788f30"
   },
   "source": [
    "-------------"
   ]
  },
  {
   "cell_type": "markdown",
   "metadata": {
    "_cell_guid": "12d4bcb7-6d8a-4506-add3-f3cadabbbdec",
    "_uuid": "07781f0392d76f063a7a5cb0e86cf6c9dd83ba86"
   },
   "source": [
    "<a id='hypotheses'></a>\n",
    "## 3. Hypotheses Test\n",
    "In this section we will perform a t-test to evaluate the hypotheses set on  <a href=\"#sec1.4\">Section 1.4</a>.\n",
    "\n",
    "As stated before, the following definitions must be considered:\n",
    "* Hypotheses to test:  \n",
    "  * $H_0: \\mu_d = 0$  \n",
    "  * $H_a: \\mu_d < 0$  \n",
    "\n",
    "* One-tailed t-test with $\\alpha$ level of $0.05$ and dependent sample."
   ]
  },
  {
   "cell_type": "markdown",
   "metadata": {
    "_cell_guid": "04136c65-4f24-4892-8938-c6315cc92ed5",
    "_uuid": "49bacf9a74dceb1af08341e3c7c245fb7c4c6e4a"
   },
   "source": [
    "#### Calculating degrees of freedom\n",
    "Since we are considering dependent sample, the degrees of freedom (*df*) are found by the following relation:  \n",
    "${df} = n -1$, where $n$ is the number of samples."
   ]
  },
  {
   "cell_type": "code",
   "execution_count": 7,
   "metadata": {
    "_cell_guid": "cb706fb4-7e27-470f-8efb-35a7f74f8c43",
    "_uuid": "4c2e5a1cc52858de38c4780a2791c499c4c96207"
   },
   "outputs": [
    {
     "name": "stdout",
     "output_type": "stream",
     "text": [
      "Degrees of freedom: 23\n"
     ]
    }
   ],
   "source": [
    "n = len(dataset)\n",
    "df = n-1\n",
    "print('Degrees of freedom: {}'.format(df))"
   ]
  },
  {
   "cell_type": "markdown",
   "metadata": {
    "_cell_guid": "f5b46ef9-9095-4e9b-8698-b95b599ea9b6",
    "_uuid": "46a356e8cdf25b82246bee1fd54eea02db3d7ff9"
   },
   "source": [
    "#### Calculating the t-test parameters\n",
    "To proceed the test, we need then to calculate the sample mean, $\\bar{X}_d$, and its respective standard deviation $S_d$:"
   ]
  },
  {
   "cell_type": "code",
   "execution_count": 8,
   "metadata": {
    "_cell_guid": "8ad67f26-02e2-4ad5-80a4-0de197fddd84",
    "_uuid": "7fea9bb09854fd7a433385d5087df47a3772d78a"
   },
   "outputs": [
    {
     "name": "stdout",
     "output_type": "stream",
     "text": [
      "Sample mean = -7.964791666666664\n",
      "Sample std = 4.864826910359054\n"
     ]
    }
   ],
   "source": [
    "## Difference mean\n",
    "Xd = dataset['Difference'].mean()\n",
    "print('Sample mean = {}'.format(Xd))\n",
    "## Difference standard deviation\n",
    "Sd = dataset['Difference'].std()\n",
    "print('Sample std = {}'.format(Sd))"
   ]
  },
  {
   "cell_type": "markdown",
   "metadata": {
    "_cell_guid": "7efb749c-9e35-4523-9823-73709a08f262",
    "_uuid": "18e1572b85899c3474ddca0c563d3e85305a7aed"
   },
   "source": [
    "With these values, we can now calculate the *standard error of the mean* as follow:  \n",
    "${SEM} = S_d / \\sqrt{n}$"
   ]
  },
  {
   "cell_type": "code",
   "execution_count": 9,
   "metadata": {
    "_cell_guid": "9bec8d02-ade0-4eaf-b9f7-db4b162629bc",
    "_uuid": "016ef5967a1a115ebed60bdb85c354d73dae0da7"
   },
   "outputs": [
    {
     "name": "stdout",
     "output_type": "stream",
     "text": [
      "SEM = 0.9930286347783402\n"
     ]
    }
   ],
   "source": [
    "SEM = Sd / np.sqrt(n)\n",
    "print('SEM = {}'.format(SEM))"
   ]
  },
  {
   "cell_type": "markdown",
   "metadata": {
    "_cell_guid": "6d65a48a-2ca2-4879-ac2b-37071d7c905c",
    "_uuid": "1f6c7d9c1d7985d10bf075c665a46736ed45f204"
   },
   "source": [
    "Finally, the t-test value is obtained from the relation:  \n",
    "$t = \\frac{\\bar{X}_d}{{SEM}}$\n"
   ]
  },
  {
   "cell_type": "code",
   "execution_count": 10,
   "metadata": {
    "_cell_guid": "5c166fff-9ca5-4b60-b4e0-45f02e4c14ea",
    "_uuid": "614a4cbc9936181f6278ca05fca39c4a28b5468b",
    "scrolled": true
   },
   "outputs": [
    {
     "name": "stdout",
     "output_type": "stream",
     "text": [
      "t-test = -8.020706944109957\n"
     ]
    }
   ],
   "source": [
    "t = Xd / SEM\n",
    "print('t-test = {}'.format(t))"
   ]
  },
  {
   "cell_type": "markdown",
   "metadata": {
    "_cell_guid": "3a0605d5-e0c7-43cc-8fef-ef8d6b0dcfcc",
    "_uuid": "3f0cf48f442ea5d2a4fc979dc79014c051280116"
   },
   "source": [
    "### Calculating the p-value"
   ]
  },
  {
   "cell_type": "markdown",
   "metadata": {
    "_cell_guid": "3aa85aca-edf4-464a-865a-091d00961764",
    "_uuid": "9b31c684eae15cd2dc82fa366772d2476699220f"
   },
   "source": [
    "Since we have defined an $\\alpha$ level, it is know we are considering a *p-value* less than $\\alpha$, i.e. $p < 0.05$. However, as this analysis runs over a computational platform, its exact value can be determined through the *stats* module of the *SciPy* library."
   ]
  },
  {
   "cell_type": "code",
   "execution_count": 11,
   "metadata": {
    "_cell_guid": "f2303a66-67a5-4032-b713-b874fb2b3b31",
    "_uuid": "09c881d977f601801bdef090327cc2071a9d4220"
   },
   "outputs": [],
   "source": [
    "from scipy import stats"
   ]
  },
  {
   "cell_type": "code",
   "execution_count": 12,
   "metadata": {
    "_cell_guid": "06dbd164-7e3c-4a8e-bb3f-113c8d1fc36e",
    "_uuid": "90781ad0673ba591ef410602d4ba17336d44660f"
   },
   "outputs": [
    {
     "name": "stdout",
     "output_type": "stream",
     "text": [
      "p-value = 0.000000021\n"
     ]
    }
   ],
   "source": [
    "p = stats.t.cdf(t, df=df)\n",
    "print('p-value = {0:.9f}'.format(p))"
   ]
  },
  {
   "cell_type": "markdown",
   "metadata": {
    "_cell_guid": "ae603101-4f73-47a0-9cbd-ff11c8884ac8",
    "_uuid": "ef6fd95af4c6c15d1e67d96bdf218bfe0d6098ce"
   },
   "source": [
    "In order to check the consistency of the results we have found, we will use a SciPy function to calculate the t-value and p-value:"
   ]
  },
  {
   "cell_type": "code",
   "execution_count": 13,
   "metadata": {
    "_cell_guid": "5c12e441-e7c8-4860-93e1-2d2f3f63f7ad",
    "_uuid": "e6cc367767218e40edf28a154893a60da375262f"
   },
   "outputs": [
    {
     "data": {
      "text/plain": [
       "Ttest_relResult(statistic=-8.020706944109959, pvalue=4.1030005857111556e-08)"
      ]
     },
     "execution_count": 13,
     "metadata": {},
     "output_type": "execute_result"
    }
   ],
   "source": [
    "stats.ttest_rel(dataset['Congruent'],dataset['Incongruent'])"
   ]
  },
  {
   "cell_type": "markdown",
   "metadata": {
    "_cell_guid": "a75594d8-917c-430b-9e3a-8e025a6df7f2",
    "_uuid": "a247c0ad6f1db3a9dd227c9ec26f50cc6825ad8c"
   },
   "source": [
    "### Rejecting the null hypothesis"
   ]
  },
  {
   "cell_type": "markdown",
   "metadata": {
    "_cell_guid": "f993c9bb-4f55-48a3-b74a-f964b8d5cf78",
    "_uuid": "a92554950e8cc562d5622ff8fb9f6500fa8bbdf3"
   },
   "source": [
    "The $t_{critical}$ value is obtained from t-Table and when considering a one-tailed $\\alpha = 0.05$, it corresponds to $t_{critical} = -1.714$.  \n",
    "\n",
    "Since the *t-test* value is much less than *t-critical*, **we reject the null** which means **we found significant statistics** to affirm that people read faster a set of congruent words when compared to incongruent ones, **which in turn is an evidence of the Stroop Effect**.  "
   ]
  },
  {
   "cell_type": "markdown",
   "metadata": {
    "_cell_guid": "b609d4c2-5973-480b-9201-622a1da559c0",
    "_uuid": "ee4434070213f38637998abb4706ff711e5f16c2"
   },
   "source": [
    " ### Finding the confidence interval"
   ]
  },
  {
   "cell_type": "markdown",
   "metadata": {
    "_cell_guid": "91516a90-bd3d-40a1-a879-3d45ee5e7087",
    "_uuid": "b9716a566a7369696b6fb0087c6cffedc58c1375"
   },
   "source": [
    "The confidence interval (CI) is calculated from the following relation:  \n",
    "${CI} = \\bar{X}_d \\pm {ME}$,  \n",
    "\n",
    "where ${ME}$ stands for margin of error and is calculated as follow:  \n",
    "${ME} = t_{critical}*{SEM}$"
   ]
  },
  {
   "cell_type": "code",
   "execution_count": 14,
   "metadata": {
    "_cell_guid": "6c34295d-7d0c-41f7-87df-cfb8ec5c26eb",
    "_uuid": "2734b751a4b5f69b17407e6ef13d06fcb38f0663"
   },
   "outputs": [
    {
     "name": "stdout",
     "output_type": "stream",
     "text": [
      "Confidence interval: (-9.67, -6.26)\n"
     ]
    }
   ],
   "source": [
    "t_critical = 1.714\n",
    "ME = t_critical*SEM\n",
    "CI = (Xd-ME, Xd+ME)\n",
    "print('Confidence interval: ({0:.2f}, {1:.2f})'.format(CI[0], CI[1]))"
   ]
  },
  {
   "cell_type": "markdown",
   "metadata": {
    "_cell_guid": "c38614a1-5b93-43ea-af68-5923959a1584",
    "_uuid": "9427f28b316296073c3008f6cd3bf567deb59da4"
   },
   "source": [
    "**The CI above means that in average people read the congruent set of words almost 10 to 6 seconds faster than the incongruent one**. "
   ]
  },
  {
   "cell_type": "markdown",
   "metadata": {
    "_cell_guid": "ad5d38bd-1aad-4fe9-a2d5-06c06c44d68c",
    "_uuid": "e1671b331887402a266ebaa0b73f9f5b0efa45c9",
    "collapsed": true
   },
   "source": [
    "-----------"
   ]
  },
  {
   "cell_type": "markdown",
   "metadata": {
    "_cell_guid": "7468f5d3-7738-4961-a5c2-f7dc602806f9",
    "_uuid": "3f3321c4af9a62c985e1c2122f994a64c0cdb223"
   },
   "source": [
    "<a id='conclusions'></a>\n",
    "## 4. Conclusions\n",
    "Regarding the *Stroop Effect*, it can be understood as an evidence in experimental psychology that a selective attention by properties is either nonexistent or incomplete. This is due to early experiments that seemed to indicate that if an object is attended, some of its properties would be processed in an automatic way, even when the observer were trying to ignore them. The findings from Stroop Effect bring evidences that selective attention to color may not be possible after all. The Stroop interference also occurs when subjects are asked to name an object that is drawn in outline around the name of a different object, for example. \n",
    "\n",
    "In this analysis we presented the Stroop Effect and applyed a t-test to collect statistic evidence to support this perceptive phenomenon. In doing so, we have gone through the steps necessary to test a hypothesis as well as gain confidence that the method can be valid even for a small number of samples, provided certain conditions. "
   ]
  },
  {
   "cell_type": "markdown",
   "metadata": {
    "_cell_guid": "2a836590-cb44-4902-a335-54849ec091ec",
    "_uuid": "8105d8d24c25700894dc97de93fba060a018585a"
   },
   "source": [
    "--------------"
   ]
  },
  {
   "cell_type": "markdown",
   "metadata": {
    "_cell_guid": "453e1d66-654f-4c62-9d2c-a6487079121f",
    "_uuid": "daffe2e53173ed49001b38c3c3a50f71a4d8880d"
   },
   "source": []
  }
 ],
 "metadata": {
  "kernelspec": {
   "display_name": "Python 3",
   "language": "python",
   "name": "python3"
  },
  "language_info": {
   "codemirror_mode": {
    "name": "ipython",
    "version": 3
   },
   "file_extension": ".py",
   "mimetype": "text/x-python",
   "name": "python",
   "nbconvert_exporter": "python",
   "pygments_lexer": "ipython3",
   "version": "3.7.3"
  }
 },
 "nbformat": 4,
 "nbformat_minor": 1
}
